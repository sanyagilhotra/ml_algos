{
 "cells": [
  {
   "cell_type": "code",
   "execution_count": 1,
   "id": "ab8d51d6-7670-4cfb-87d1-f1c30fa2666e",
   "metadata": {},
   "outputs": [],
   "source": [
    "import pandas as pd\n",
    "import numpy as np\n",
    "from sklearn.preprocessing import StandardScaler\n",
    "from statistics import mean\n",
    "import matplotlib.pyplot as plt\n",
    "data = pd.read_csv(\"/Users/sanyagilhotra/Desktop/NN from scratch/clean_weather.csv\", index_col=0)\n",
    "data = data.ffill()"
   ]
  },
  {
   "cell_type": "code",
   "execution_count": 2,
   "id": "f3791a81-d488-4c7c-909b-8105c6b60587",
   "metadata": {},
   "outputs": [
    {
     "name": "stderr",
     "output_type": "stream",
     "text": [
      "/Library/Frameworks/Python.framework/Versions/3.11/lib/python3.11/site-packages/numpy/core/fromnumeric.py:59: FutureWarning: 'DataFrame.swapaxes' is deprecated and will be removed in a future version. Please use 'DataFrame.transpose' instead.\n",
      "  return bound(*args, **kwds)\n"
     ]
    }
   ],
   "source": [
    "PREDICTORS = [\"tmax\", \"tmin\", \"rain\"]\n",
    "TARGET = \"tmax_tomorrow\"\n",
    "\n",
    "scaler = StandardScaler()\n",
    "data[PREDICTORS] = scaler.fit_transform(data[PREDICTORS])\n",
    "\n",
    "split_data = np.split(data, [int(.7*len(data)), int(.85*len(data))])\n",
    "(train_x, train_y), (valid_x, valid_y), (test_x, test_y) = [[d[PREDICTORS].to_numpy(), d[[TARGET]].to_numpy()] for d in split_data]"
   ]
  },
  {
   "cell_type": "code",
   "execution_count": 3,
   "id": "fc393270-36ea-4516-9bc7-a7ce51c59d76",
   "metadata": {},
   "outputs": [],
   "source": [
    "def mse(actual, predicted):\n",
    "    return np.mean((actual-predicted)**2)\n",
    "\n",
    "def mse_grad(actual, predicted):\n",
    "    return (predicted - actual)"
   ]
  },
  {
   "cell_type": "code",
   "execution_count": 4,
   "id": "b1547940-59a1-40b6-8b7f-1ca15e414ab8",
   "metadata": {},
   "outputs": [],
   "source": [
    "def init_layers(inputs):\n",
    "    layers = []\n",
    "    for i in range(1, len(inputs)):\n",
    "        layers.append([\n",
    "            np.random.rand(inputs[i-1], inputs[i]) / 5 - 0.2,\n",
    "            np.ones((1,inputs[i]))\n",
    "        ])\n",
    "    return layers"
   ]
  },
  {
   "cell_type": "code",
   "execution_count": 5,
   "id": "f2a780eb-d517-4489-b19b-f6e319c11ded",
   "metadata": {},
   "outputs": [],
   "source": [
    "def forward(batch, layers):\n",
    "    hidden = [batch.copy()]\n",
    "    for i in range(len(layers)):\n",
    "        batch = np.matmul(batch, layers[i][0]) + layers[i][1]\n",
    "        if i < len(layers) - 1:\n",
    "            batch = np.maximum(batch, 0)\n",
    "        hidden.append(batch.copy())\n",
    "\n",
    "    return batch, hidden"
   ]
  },
  {
   "cell_type": "code",
   "execution_count": 6,
   "id": "9b48ba67-863e-49ab-97f1-85322a28c913",
   "metadata": {},
   "outputs": [],
   "source": [
    "def backward(layers, hidden, grad, lr):\n",
    "    for i in range(len(layers)-1, -1, -1):\n",
    "        if i != len(layers) - 1:\n",
    "            grad = np.multiply(grad, np.heaviside(hidden[i+1], 0))\n",
    "\n",
    "        grad = grad.T\n",
    "        w_grad = np.matmul(grad, hidden[i]).T\n",
    "        b_grad = np.mean(grad.T, axis=0)\n",
    "\n",
    "        layers[i][0] -= (w_grad + layers[i][0] * .01) * lr\n",
    "        layers[i][1] -= b_grad * lr\n",
    "        grad = np.matmul(layers[i][0], grad).T\n",
    "    return layers"
   ]
  },
  {
   "cell_type": "code",
   "execution_count": 7,
   "id": "c76220dc-15c3-4b46-83af-7d644c47d51c",
   "metadata": {},
   "outputs": [
    {
     "name": "stdout",
     "output_type": "stream",
     "text": [
      "Epoch: 0 Train MSE: 4202.049885583284\n",
      "Epoch: 50 Train MSE: 22.04418588542435\n",
      "Epoch: 100 Train MSE: 22.03063618281539\n",
      "Epoch: 150 Train MSE: 22.02428924687209\n",
      "Epoch: 200 Train MSE: 22.020063252547548\n",
      "Epoch: 250 Train MSE: 22.013098241294504\n",
      "Epoch: 300 Train MSE: 22.009811205147493\n",
      "Epoch: 350 Train MSE: 22.008069512180782\n",
      "Epoch: 400 Train MSE: 22.006311401648013\n",
      "Epoch: 450 Train MSE: 22.00482923840685\n",
      "Epoch: 500 Train MSE: 22.003463431689052\n",
      "Epoch: 550 Train MSE: 22.002240684554515\n",
      "Epoch: 600 Train MSE: 22.0007073732071\n",
      "Epoch: 650 Train MSE: 21.99950750355277\n",
      "Epoch: 700 Train MSE: 21.998511091157546\n",
      "Epoch: 750 Train MSE: 21.99762062344904\n",
      "Epoch: 800 Train MSE: 21.996663011859255\n",
      "Epoch: 850 Train MSE: 21.99588851906184\n",
      "Epoch: 900 Train MSE: 21.995091482768334\n",
      "Epoch: 950 Train MSE: 21.994417478903184\n"
     ]
    },
    {
     "data": {
      "image/png": "[encoded data removed]",
      "text/plain": [
       "<Figure size 1000x600 with 1 Axes>"
      ]
     },
     "metadata": {},
     "output_type": "display_data"
    }
   ],
   "source": [
    "layer_conf = [3,10,10,1]\n",
    "lr = 1e-6\n",
    "epochs=1000\n",
    "batch_size = 8\n",
    "train_losses=[]\n",
    "valid_losses=[]\n",
    "layers = init_layers(layer_conf)\n",
    "\n",
    "for epoch in range(epochs):\n",
    "    epoch_loss = []\n",
    "\n",
    "    for i in range(0, train_x.shape[0], batch_size):\n",
    "        x_batch = train_x[i:(i+batch_size)]\n",
    "        y_batch = train_y[i:(i+batch_size)]\n",
    "        pred, hidden = forward(x_batch, layers)\n",
    "\n",
    "        loss = mse_grad(y_batch, pred)\n",
    "        epoch_loss.append(mse(y_batch,pred))\n",
    "\n",
    "        layers = backward(layers, hidden, loss, lr)\n",
    "\n",
    "    train_losses.append(np.mean(epoch_loss))\n",
    "    if(epoch%50==0):\n",
    "        print(f\"Epoch: {epoch} Train MSE: {train_losses[epoch]}\")\n",
    "plt.figure(figsize=(10, 6))\n",
    "plt.plot(range(epochs), train_losses, label='Train MSE')\n",
    "plt.title('MSE vs Epochs')\n",
    "plt.xlabel('Epochs')\n",
    "plt.ylabel('MSE')\n",
    "plt.legend()\n",
    "plt.grid(True)\n",
    "plt.show()"
   ]
  }
 ],
 "metadata": {
  "kernelspec": {
   "display_name": "Python 3 (ipykernel)",
   "language": "python",
   "name": "python3"
  },
  "language_info": {
   "codemirror_mode": {
    "name": "ipython",
    "version": 3
   },
   "file_extension": ".py",
   "mimetype": "text/x-python",
   "name": "python",
   "nbconvert_exporter": "python",
   "pygments_lexer": "ipython3",
   "version": "3.11.4"
  }
 },
 "nbformat": 4,
 "nbformat_minor": 5
}
